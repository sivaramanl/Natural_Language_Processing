{
 "cells": [
  {
   "cell_type": "markdown",
   "metadata": {},
   "source": [
    "<center><b>Sentiment Analysis using CNN architecture</b></center>"
   ]
  },
  {
   "cell_type": "markdown",
   "metadata": {},
   "source": [
    "<ul>\n",
    "    <li>The dataset can be downloaded at <a href=\"https://nlp.stanford.edu/sentiment\">https://nlp.stanford.edu/sentiment</a> under Dataset Download -> Main zip file with readme (6mb).</li>\n",
    "    <li>The polarity data can be downloaded from <a href=\"http://www.cs.cornell.edu/people/pabo/movie-review-data\">http://www.cs.cornell.edu/people/pabo/movie-review-data</a> under Sentiment polarity datasets.</li>\n",
    "</ul>"
   ]
  },
  {
   "cell_type": "markdown",
   "metadata": {},
   "source": [
    "<b>Architecture:</b>\n",
    "<br>\n",
    "The CNN architecture described in <a href=\"https://arxiv.org/pdf/1408.5882.pdf\">Kim, Y. (2014)</a> is used for the sentiment analysis task."
   ]
  },
  {
   "cell_type": "code",
   "execution_count": 24,
   "metadata": {},
   "outputs": [],
   "source": [
    "import os\n",
    "import urllib\n",
    "import zipfile\n",
    "import nltk\n",
    "import re\n",
    "import numpy as np\n",
    "from nltk.corpus import stopwords\n",
    "\n",
    "from nltk.tokenize import word_tokenize\n",
    "import matplotlib.pyplot as plt\n",
    "\n",
    "from numpy import array\n",
    "import tensorflow as tf\n",
    "from tensorflow.python import keras\n",
    "from tensorflow.keras.preprocessing.text import one_hot\n",
    "from tensorflow.keras.preprocessing.sequence import pad_sequences\n",
    "from tensorflow.keras.models import Sequential, Model\n",
    "from tensorflow.keras.layers import Dense\n",
    "from tensorflow.keras.layers import Flatten\n",
    "from tensorflow.keras.layers import Embedding\n",
    "from tensorflow.keras.layers import Conv1D, MaxPooling1D, Embedding, concatenate, Dropout\n",
    "from tensorflow.keras import regularizers"
   ]
  },
  {
   "cell_type": "markdown",
   "metadata": {},
   "source": [
    "<b>Loading the Glove embedding of 300 dimension size</b>"
   ]
  },
  {
   "cell_type": "code",
   "execution_count": 2,
   "metadata": {},
   "outputs": [
    {
     "name": "stdout",
     "output_type": "stream",
     "text": [
      "Loading Glove Model of 300 dimensions\n",
      "Done. 400000  words loaded!\n"
     ]
    }
   ],
   "source": [
    "#Loading Glove model\n",
    "\n",
    "def loadGloveModel(gloveFile):\n",
    "    f = open(gloveFile,'r', encoding=\"utf8\")\n",
    "    model = {}\n",
    "    for line in f:\n",
    "        splitLine = line.split()\n",
    "        word = splitLine[0]\n",
    "        embedding = np.array([float(val) for val in splitLine[1:]])\n",
    "        model[word] = embedding\n",
    "    print(\"Done.\",len(model),\" words loaded!\")\n",
    "    f.close()\n",
    "    return model\n",
    "\n",
    "print(\"Loading Glove Model of 300 dimensions\")\n",
    "gloveModel = loadGloveModel(\"glove.6B.300d.txt\")"
   ]
  },
  {
   "cell_type": "markdown",
   "metadata": {},
   "source": [
    "<b>Loading the train/test/dev split from file as a dictionary object for easier lookup</b>"
   ]
  },
  {
   "cell_type": "code",
   "execution_count": 3,
   "metadata": {},
   "outputs": [
    {
     "name": "stdout",
     "output_type": "stream",
     "text": [
      "Length: 11855\n"
     ]
    }
   ],
   "source": [
    "datasetSplitFile = 'stanfordSentimentTreebank\\stanfordSentimentTreebank\\datasetSplit.txt'\n",
    "def produceSplit(data, datasetSplitFile):\n",
    "    splitMap = {}\n",
    "    f = open(datasetSplitFile, 'r')\n",
    "    next(f)\n",
    "    count = 0\n",
    "    for line in f:\n",
    "        line = line.strip()\n",
    "        stmtid, dataType = line.split(',')\n",
    "        splitMap[int(stmtid)] = int(dataType)\n",
    "    f.close()\n",
    "    return splitMap\n",
    "    \n",
    "splitMap = produceSplit(None, datasetSplitFile)\n",
    "print(\"Length:\", len(splitMap))"
   ]
  },
  {
   "cell_type": "markdown",
   "metadata": {},
   "source": [
    "<b>Mapping the reviews to their positive/negative labels</b>"
   ]
  },
  {
   "cell_type": "code",
   "execution_count": 4,
   "metadata": {},
   "outputs": [],
   "source": [
    "dataFile = \"stanfordSentimentTreebank\\\\stanfordSentimentTreebank\\\\original_rt_snippets.txt\"\n",
    "positiveLabels = \"rt-polaritydata\\\\rt-polarity.pos\"\n",
    "negativeLabels = \"rt-polaritydata\\\\rt-polarity.neg\"\n",
    "sentenceDataFile = \"stanfordSentimentTreebank\\\\stanfordSentimentTreebank\\\\datasetSentences.txt\""
   ]
  },
  {
   "cell_type": "code",
   "execution_count": 5,
   "metadata": {},
   "outputs": [],
   "source": [
    "#Method to perform text processing to convert positive/negative snippets to format matching the original rt review text\n",
    "def getTransformedReview(line):\n",
    "    line = line.lower()\n",
    "    line = line.strip()\n",
    "    line = line.replace(' . ', '').replace('. ', '').replace(' .', '').replace('.', '').replace(\"… \", '').replace(\"…\", '')\n",
    "    line = line.replace(' , ', ', ').replace(' :', ':').replace(' ;', ';').replace('( ', '').replace(' )', '').replace('[', '')\n",
    "    line = line.replace(' ]', '').replace('] ', ' ').replace(']', '').replace(' \\\"', '').replace('\\\" ', '').replace('\\\"', '')\n",
    "    line = line.replace('\\'', '').replace(' ? s', 's').replace(' ?', '').replace('? ', '').replace('?', '').replace(' ! ', ' ')\n",
    "    line = line.replace(' !', '').replace('! ', '').replace('!', '').replace(\"<b>\", '').replace(\"</b>\", '').replace(\"<em>\", '')\n",
    "    line = line.replace(\"</em>\", '').replace('`', '').replace('—', '--').replace(\"  \", \" \")\n",
    "    return line.strip()\n",
    "\n",
    "#Method to extract the positive and negative labelled reviews\n",
    "def populateLabelFiles(posFile, negFile):\n",
    "    positiveFile = open(posFile, 'r')\n",
    "    posRev = []\n",
    "    for line in positiveFile:\n",
    "        line = getTransformedReview(line)\n",
    "        posRev.append(line[:20])\n",
    "    positiveFile.close()\n",
    "    \n",
    "    negativeFile = open(negFile, 'r')\n",
    "    negRev = []\n",
    "    for line in negativeFile:\n",
    "        line = getTransformedReview(line)\n",
    "        negRev.append(line[:20])\n",
    "    negativeFile.close()\n",
    "    return posRev, negRev\n",
    "\n",
    "#Method to perform text processing to convert original rt reviews to format matching the positive/negative review snippets\n",
    "def getTransformedLine(line):\n",
    "    refLine = line.lower()\n",
    "    refLine = refLine.replace('(', '').replace(')c', ' c').replace(')', '').replace(\"``\", '').replace(\"''\", '').replace(\"’\", '')\n",
    "    refLine = refLine.replace(' . ', '').replace('. ', '').replace(' .', '').replace('.', '').replace(' , ', ', ')\n",
    "    refLine = refLine.replace(\"  \", \" \").replace(\" \\'s \", 's ').replace(' \\'d ', 'd ').replace('\\'', '').replace('\\/', '/')\n",
    "    refLine = refLine.replace(\"?\", \"\").replace(\"!\", \"\").replace('`', '')\n",
    "    refLine = refLine.strip()\n",
    "    return refLine\n",
    "\n",
    "#Method to read and populate the data and its corresponding labels for the RT reviews\n",
    "def readData(dataFile, posFile, negFile):\n",
    "    dataFilePointer = open(dataFile, 'r', encoding=\"utf8\")\n",
    "    count = 0\n",
    "    dataset = []\n",
    "    dataLabels = []\n",
    "    posReview, negReview = populateLabelFiles(posFile, negFile)\n",
    "    for line in dataFilePointer:\n",
    "        line = line.strip()\n",
    "        refLine = getTransformedLine(line)\n",
    "        \n",
    "        #Additional pre-processing is done here to facilitate matching between reviews and statement wise data\n",
    "        dataset.append(refLine.replace(\"--\", \"–\").replace(\"½\", \"1/2\").replace('\\\"', '').replace(\"–-\", \"–\").replace(\" \", \"\"))\n",
    "        \n",
    "        if refLine[:20] in posReview:\n",
    "            dataLabels.append(1)\n",
    "        elif refLine[:20] in negReview:\n",
    "            dataLabels.append(0)\n",
    "        else:\n",
    "            print(\"Error\")\n",
    "            print(refLine)\n",
    "            break\n",
    "    dataFilePointer.close()\n",
    "    return dataset, dataLabels\n",
    "    \n",
    "reviewData, reviewDataLabels = readData(dataFile, positiveLabels, negativeLabels)"
   ]
  },
  {
   "cell_type": "markdown",
   "metadata": {},
   "source": [
    "<b>Processing the reviews:</b>\n",
    "<ul>\n",
    "    <li>The reviews in RT file are transformed to match the sentences in positive and negative files for matching purposes.</li>\n",
    "    <li>The reviews are further pre-processed for matching the dataset sentences in the next step. The transformations were observed by iterative processing of the RT reviews, positive/negative and the dataset files.</li>\n",
    "    <li>Regular Expressions were tried but due to the difference in the order of sentences between the RT reviews and the positive/negative, they weren't effective. Thus, explicit transformations in the required order were utilized.</li>\n",
    "</ul>"
   ]
  },
  {
   "cell_type": "code",
   "execution_count": 6,
   "metadata": {},
   "outputs": [],
   "source": [
    "w_tokenizer = nltk.tokenize.WhitespaceTokenizer()\n",
    "lemmatizer = nltk.stem.WordNetLemmatizer()\n",
    "\n",
    "def lemmatize_text(text):\n",
    "    lemma_str = \"\"\n",
    "    for w in w_tokenizer.tokenize(text):\n",
    "        lemma_str += lemmatizer.lemmatize(w) + \" \"\n",
    "    return lemma_str\n",
    "\n",
    "stopWords = set(stopwords.words('english'))\n",
    "\n",
    "def remove_stop_words(text):\n",
    "    return_str = \"\"\n",
    "    for w in w_tokenizer.tokenize(text):\n",
    "        if w not in stopWords:\n",
    "            return_str += w + \" \"\n",
    "    return return_str"
   ]
  },
  {
   "cell_type": "code",
   "execution_count": 7,
   "metadata": {},
   "outputs": [
    {
     "name": "stdout",
     "output_type": "stream",
     "text": [
      "Incorrect: 0\n",
      "Train / test / dev split: 8544 / 2210 / 1101\n",
      "Total: 11855\n"
     ]
    }
   ],
   "source": [
    "#Method to get transformed statements to match the review statements\n",
    "def getTransformedStmt(line):\n",
    "    refLine = line.lower()\n",
    "    \n",
    "    #START punctuation transformation\n",
    "    refLine = refLine.replace('(', '').replace(')c', ' c').replace(')', '').replace(\"``\", '').replace(\"’\", '')\n",
    "    refLine = refLine.replace(' . ', '').replace('. ', '').replace(' .', '').replace('.', '').replace(' , ', ', ')\n",
    "    refLine = refLine.replace(\"  \", \" \").replace(\" \\'s \", 's ').replace(' \\'d ', 'd ').replace('\\'', '').replace('\\/', '/')\n",
    "    refLine = refLine.replace('\\\\', '').replace(\"?\", \"\").replace(\"!\", \"\").replace('`', '')\n",
    "    refLine = refLine.strip()\n",
    "    #END punctuation transformation\n",
    "    \n",
    "    refLine = refLine.replace(\"can not\", \"cannot\").replace(\" nt\", \"nt\").replace(\"` \", '').replace(\" '\", '').replace(' ;', ';')\n",
    "    refLine = refLine.replace(' :', ':').replace('-lrb- ', '').replace('-rrb- ', '').replace('-rrb-', '').replace(\" -8\", \"-8\")\n",
    "    refLine = refLine.replace(' ,', ',').replace('ã©', 'é').replace('ã­', 'í').replace('ã¼', 'ü').replace('ã³', 'ó')\n",
    "    refLine = refLine.replace('ã¡', 'á').replace('ã¦', 'æ').replace('ã', 'à').replace('â', '').replace('à¢', 'â')\n",
    "    refLine = refLine.replace('à±', 'ñ').replace('à¯', 'ï').replace('à´', 'ô').replace('à¨', 'è').replace('à¶', 'ö')\n",
    "    refLine = refLine.replace('à£', 'ã').replace('à»', 'û').replace('à§', 'ç').replace(' ', '').replace(\"--\", \"–\")\n",
    "    refLine = refLine.replace(\"--\", \"–\").replace(' ', '')\n",
    "    return refLine\n",
    "\n",
    "#Method to get the clean version of the review statements for training/validation/testing\n",
    "def getCleanedReview(refLine):\n",
    "    refLine = refLine.replace(\"``\", '').replace(\"’\", '').replace('`', '')\n",
    "    \n",
    "    refLine = refLine.replace('-lrb- ', '').replace('-rrb- ', '').replace('-rrb-', '')\n",
    "    \n",
    "    refLine = refLine.replace('ã©', 'é').replace('ã­', 'í').replace('ã¼', 'ü').replace('ã³', 'ó').replace('ã¡', 'á')\n",
    "    refLine = refLine.replace('ã¦', 'æ').replace('ã', 'à').replace('à¢', 'â').replace('à±', 'ñ').replace('à¯', 'ï')\n",
    "    refLine = refLine.replace('à´', 'ô').replace('à¨', 'è').replace('à¶', 'ö').replace('à£', 'ã').replace('à»', 'û')\n",
    "    refLine = refLine.replace('à§', 'ç')\n",
    "    \n",
    "    #return lemmatize_text(refLine)\n",
    "    #return remove_stop_words(refLine)\n",
    "    return refLine\n",
    "\n",
    "#Method to match the statement in the review and obtain the corresponding label\n",
    "def retLabel(reviewData, reviewDataLabels, line, i):\n",
    "    searchLine = getTransformedStmt(line)\n",
    "    indx = 0\n",
    "    for entry in reviewData:\n",
    "        if entry.startswith(searchLine):\n",
    "            label = reviewDataLabels[indx]\n",
    "            temp = entry.replace(searchLine, \"\", 1).strip()\n",
    "            if temp == '':\n",
    "                reviewData.pop(indx)\n",
    "                reviewDataLabels.pop(indx)\n",
    "            else:\n",
    "                reviewData[indx] = temp\n",
    "            return label\n",
    "        indx += 1\n",
    "    print(reviewData[0])\n",
    "    print(\"searchline\")\n",
    "    print(searchLine)\n",
    "    return -1\n",
    "\n",
    "#Method to read the sentence data and generate train/test/development data along with their labels\n",
    "def readSentenceData(dataFile, reviewData, reviewDataLabels):\n",
    "    trainingData = []\n",
    "    devData = []\n",
    "    testData = []\n",
    "    trainingLabels = []\n",
    "    devLabels = []\n",
    "    testLabels = []\n",
    "    \n",
    "    dataFilePointer = open(dataFile, \"r\", encoding=\"utf8\")\n",
    "    next(dataFilePointer)\n",
    "    dataLabels = []\n",
    "    count = 0\n",
    "    for line in dataFilePointer:\n",
    "        stmtId, stmt = line.split(\"\\t\")\n",
    "        x = retLabel(reviewData, reviewDataLabels, stmt, count)\n",
    "        if x != -1:\n",
    "            stmt = getCleanedReview(stmt.strip())\n",
    "            dataType = splitMap[int(stmtId)]\n",
    "            if dataType == 1:\n",
    "                trainingData.append(stmt)\n",
    "                trainingLabels.append(x)\n",
    "            elif dataType == 2:\n",
    "                testData.append(stmt)\n",
    "                testLabels.append(x)\n",
    "            else:\n",
    "                devData.append(stmt)\n",
    "                devLabels.append(x)\n",
    "        elif x == -1:\n",
    "            print(\"Unexpected error for statement id: \", stmtId)\n",
    "            count += 1\n",
    "            break\n",
    "    print(\"Incorrect:\", count)\n",
    "    return trainingData, trainingLabels, devData, devLabels, testData, testLabels\n",
    "    \n",
    "trainX, trainY, devX, devY, testX, testY = readSentenceData(sentenceDataFile, reviewData.copy(), reviewDataLabels.copy())\n",
    "print(\"Train / test / dev split:\", len(trainX), \"/\", len(testX), \"/\", len(devX))\n",
    "print(\"Total:\", len(trainX) + len(devX) + len(testX))"
   ]
  },
  {
   "cell_type": "code",
   "execution_count": 8,
   "metadata": {},
   "outputs": [],
   "source": [
    "#Generating the complete data corpus to pre-process the text\n",
    "dataCorpus = trainX.copy()\n",
    "dataCorpus.extend(devX)\n",
    "dataCorpus.extend(testX)"
   ]
  },
  {
   "cell_type": "markdown",
   "metadata": {},
   "source": [
    "<b>Pre-processing the data:</b>\n",
    "<ul>\n",
    "    <li><b>Words to indices</b>: Convert strings into corresponding word indices.</li>\n",
    "    <li><b>Padding</b>: Pad the embedded matrices to generate equal length sentence embeddings.</li>\n",
    "    <li><b>Lemmatization</b>: The lemmatizer was used while pre-processing the data. However, it was later identified that the performance of the models weren't increased by lemmatization and thus it isn't utilized.</li>\n",
    "    <li><b>Stop words removal</b>: On removing the stop words from the data corpus, it was observed that the performance declined from 75% validation error to 73% error. For the given corpus, the context of the stop words seem to be an important factor. Thus, stop words weren't removed from the corpus prior to training the models.</li>\n",
    "</ul>"
   ]
  },
  {
   "cell_type": "code",
   "execution_count": 9,
   "metadata": {},
   "outputs": [
    {
     "name": "stdout",
     "output_type": "stream",
     "text": [
      "Vocabulary length: 17840\n"
     ]
    }
   ],
   "source": [
    "def getEmbeddedData(data, tokenizerObj):\n",
    "    return tokenizerObj.texts_to_sequences(data)\n",
    "\n",
    "word_tokenizer = tf.keras.preprocessing.text.Tokenizer()\n",
    "word_tokenizer.fit_on_texts(dataCorpus)\n",
    "vocab_length = len(word_tokenizer.word_index) + 1\n",
    "print(\"Vocabulary length:\", vocab_length)\n",
    "\n",
    "embedding_matrix = np.zeros((vocab_length, 300))\n",
    "for word, index in word_tokenizer.word_index.items():\n",
    "    embedding_vector = gloveModel.get(word)\n",
    "    if embedding_vector is not None:\n",
    "        embedding_matrix[index] = embedding_vector\n",
    "\n",
    "embedded_sentences_train = getEmbeddedData(trainX, word_tokenizer)\n",
    "\n",
    "embedded_sentences_dev = getEmbeddedData(devX, word_tokenizer)\n",
    "\n",
    "embedded_sentences_test = getEmbeddedData(testX, word_tokenizer)"
   ]
  },
  {
   "cell_type": "code",
   "execution_count": 10,
   "metadata": {},
   "outputs": [
    {
     "name": "stdout",
     "output_type": "stream",
     "text": [
      "Max length: 56\n"
     ]
    }
   ],
   "source": [
    "word_count = lambda sentence: len(word_tokenize(sentence))\n",
    "longest_sentence = max(dataCorpus, key=word_count)\n",
    "length_long_sentence = len(word_tokenize(longest_sentence))\n",
    "print(\"Max length:\", length_long_sentence)\n",
    "\n",
    "padded_sentences_train = pad_sequences(embedded_sentences_train, length_long_sentence, padding='post')\n",
    "\n",
    "padded_sentences_dev = pad_sequences(embedded_sentences_dev, length_long_sentence, padding='post')\n",
    "\n",
    "padded_sentences_test = pad_sequences(embedded_sentences_test, length_long_sentence, padding='post')"
   ]
  },
  {
   "cell_type": "markdown",
   "metadata": {},
   "source": [
    "<b>Designing, training and evaluating the CNN model:</b>\n",
    "<br>"
   ]
  },
  {
   "cell_type": "code",
   "execution_count": 11,
   "metadata": {},
   "outputs": [],
   "source": [
    "#Method to plot the accuracy and loss graphs for the model\n",
    "def plot_graphs(history, string):\n",
    "    plt.plot(history.history[string])\n",
    "    plt.plot(history.history['val_'+string], '')\n",
    "    plt.xlabel(\"Epochs\")\n",
    "    if string == \"acc\":\n",
    "        plt.ylabel(\"accuracy\")\n",
    "    else:\n",
    "        plt.ylabel(string)\n",
    "    plt.legend([string, 'val_'+string])\n",
    "    plt.show()"
   ]
  },
  {
   "cell_type": "code",
   "execution_count": 12,
   "metadata": {},
   "outputs": [],
   "source": [
    "#Method to display the metrics\n",
    "def displayMetrics(accuracy, precision, recall):\n",
    "    f1 = (2 * precision * recall) / (precision + recall)\n",
    "    print('Accuracy: %f' % (accuracy*100))\n",
    "    print(\"Precision: \", precision)\n",
    "    print(\"Recall:\", recall)\n",
    "    print(\"F1-score:\", f1)"
   ]
  },
  {
   "cell_type": "markdown",
   "metadata": {},
   "source": [
    "<b>General design:</b>\n",
    "<ul>\n",
    "    <li>The models described in Kim, Y. (2014) paper are constructed and utilized.</li>\n",
    "    <li>Three separate convolutional layers of varying filter sizes are applied on the data followed by max pooling.</li>\n",
    "    <li>A final fully connected layer with dropout and softmax output are used to make predictions on the sentiment of the data.</li>\n",
    "</ul>"
   ]
  },
  {
   "cell_type": "markdown",
   "metadata": {},
   "source": [
    "<b>Hyperparameter tuning:</b>\n",
    "All hyperparameters have been adapted from the architectures described in Kim, Y. (2014) paper.\n",
    "<ol>\n",
    "    <li><b>Convolution filter sizes:</b> 3,4,5</li>\n",
    "    <li><b>Non-linearity in convolution layers:</b> ReLU</li>\n",
    "    <li><b>Filter map size per filter layer:</b> 100</li>\n",
    "    <li><b>Dropout p:</b> 0.5</li>\n",
    "    <li><b>L2 regularization constraint s:</b> 3</li>\n",
    "    <li><b>Mini batch size: </b>50</li>\n",
    "    <li><b>Embedding dimensions:</b> 300</li>\n",
    "</ol>"
   ]
  },
  {
   "cell_type": "code",
   "execution_count": 13,
   "metadata": {},
   "outputs": [],
   "source": [
    "cnn_filter_sizes = [3, 4, 5]\n",
    "filter_map_size = 100\n",
    "dropout_p = 0.5\n",
    "l2_s = 3\n",
    "batch_size = 50\n",
    "embedding_dimensions = 300"
   ]
  },
  {
   "cell_type": "markdown",
   "metadata": {},
   "source": [
    "<b>Model 1: CNN-rand</b>\n",
    "<br>\n",
    "Word embeddings are randomly initialized and updated during training."
   ]
  },
  {
   "cell_type": "code",
   "execution_count": 21,
   "metadata": {},
   "outputs": [
    {
     "name": "stdout",
     "output_type": "stream",
     "text": [
      "__________________________________________________________________________________________________\n",
      "Layer (type)                    Output Shape         Param #     Connected to                     \n",
      "==================================================================================================\n",
      "input_3 (InputLayer)            (None, 56)           0                                            \n",
      "__________________________________________________________________________________________________\n",
      "embedding_2 (Embedding)         (None, 56, 300)      5352000     input_3[0][0]                    \n",
      "__________________________________________________________________________________________________\n",
      "conv1d_6 (Conv1D)               (None, 54, 100)      90100       embedding_2[0][0]                \n",
      "__________________________________________________________________________________________________\n",
      "conv1d_7 (Conv1D)               (None, 53, 100)      120100      embedding_2[0][0]                \n",
      "__________________________________________________________________________________________________\n",
      "conv1d_8 (Conv1D)               (None, 52, 100)      150100      embedding_2[0][0]                \n",
      "__________________________________________________________________________________________________\n",
      "max_pooling1d_6 (MaxPooling1D)  (None, 1, 100)       0           conv1d_6[0][0]                   \n",
      "__________________________________________________________________________________________________\n",
      "max_pooling1d_7 (MaxPooling1D)  (None, 1, 100)       0           conv1d_7[0][0]                   \n",
      "__________________________________________________________________________________________________\n",
      "max_pooling1d_8 (MaxPooling1D)  (None, 1, 100)       0           conv1d_8[0][0]                   \n",
      "__________________________________________________________________________________________________\n",
      "flatten_6 (Flatten)             (None, 100)          0           max_pooling1d_6[0][0]            \n",
      "__________________________________________________________________________________________________\n",
      "flatten_7 (Flatten)             (None, 100)          0           max_pooling1d_7[0][0]            \n",
      "__________________________________________________________________________________________________\n",
      "flatten_8 (Flatten)             (None, 100)          0           max_pooling1d_8[0][0]            \n",
      "__________________________________________________________________________________________________\n",
      "concatenate_2 (Concatenate)     (None, 300)          0           flatten_6[0][0]                  \n",
      "                                                                 flatten_7[0][0]                  \n",
      "                                                                 flatten_8[0][0]                  \n",
      "__________________________________________________________________________________________________\n",
      "dropout_2 (Dropout)             (None, 300)          0           concatenate_2[0][0]              \n",
      "__________________________________________________________________________________________________\n",
      "dense_2 (Dense)                 (None, 1)            301         dropout_2[0][0]                  \n",
      "==================================================================================================\n",
      "Total params: 5,712,601\n",
      "Trainable params: 5,712,601\n",
      "Non-trainable params: 0\n",
      "__________________________________________________________________________________________________\n",
      "None\n"
     ]
    }
   ],
   "source": [
    "#Model 1: CNN-rand\n",
    "\n",
    "convs = []\n",
    "\n",
    "embedding_matrix_rand = np.random.rand(vocab_length, embedding_dimensions)\n",
    "embedding_layer = Embedding(vocab_length,\n",
    "                            embedding_matrix_rand.shape[1],\n",
    "                            weights=[embedding_matrix_rand],\n",
    "                            input_length=length_long_sentence,\n",
    "                            trainable=True)\n",
    "\n",
    "sequence_input = keras.engine.input_layer.Input(shape=(length_long_sentence,), dtype='int32')\n",
    "embedded_sequences = embedding_layer(sequence_input)\n",
    "\n",
    "for cur_filter in cnn_filter_sizes:\n",
    "    l_conv = Conv1D(filters=filter_map_size, kernel_size=cur_filter, activation='relu')(embedded_sequences)\n",
    "    l_pool = MaxPooling1D(pool_size=length_long_sentence-cur_filter+1, strides=None, padding='valid')(l_conv)\n",
    "    l_flatten = Flatten()(l_pool)\n",
    "    convs.append(l_flatten)\n",
    "    \n",
    "output_layer = concatenate(convs, axis=-1)\n",
    "output_layer = Dropout(dropout_p)(output_layer)\n",
    "prediction_layer = Dense(1, activation='sigmoid')(output_layer)\n",
    "\n",
    "model1 = Model(inputs=sequence_input, outputs=prediction_layer)\n",
    "model1.compile(loss='binary_crossentropy',\n",
    "              optimizer='adam',\n",
    "              metrics=['accuracy', tf.keras.metrics.Precision(), tf.keras.metrics.Recall()])\n",
    "print(model1.summary())"
   ]
  },
  {
   "cell_type": "code",
   "execution_count": 22,
   "metadata": {},
   "outputs": [
    {
     "data": {
      "image/png": "[encoded data removed]",
      "text/plain": [
       "<Figure size 432x288 with 1 Axes>"
      ]
     },
     "metadata": {
      "needs_background": "light"
     },
     "output_type": "display_data"
    },
    {
     "data": {
      "image/png": "[encoded data removed]",
      "text/plain": [
       "<Figure size 432x288 with 1 Axes>"
      ]
     },
     "metadata": {
      "needs_background": "light"
     },
     "output_type": "display_data"
    }
   ],
   "source": [
    "callback = tf.keras.callbacks.EarlyStopping(monitor='val_loss', patience=3, restore_best_weights = True)\n",
    "history = model1.fit(padded_sentences_train, trainY,\n",
    "                    validation_data=(padded_sentences_dev, devY),\n",
    "                    epochs=30,\n",
    "                    batch_size=batch_size,\n",
    "                    callbacks=[callback],\n",
    "                    verbose = 0) #Early stopping to obtain best performing model on the validation data\n",
    "plot_graphs(history, 'acc')\n",
    "plot_graphs(history, 'loss')"
   ]
  },
  {
   "cell_type": "markdown",
   "metadata": {},
   "source": [
    "<u>Note:</u> L2 regularization is not applied to this model since it penalizes the model heavily. The validation accuracy ends around 50% which is as good as random guess. On removing the hyperparameter, the model overfits on the training data but performs better on the validation data."
   ]
  },
  {
   "cell_type": "markdown",
   "metadata": {},
   "source": [
    "<b>Model 2: CNN-static</b>\n",
    "<br>\n",
    "Pre-trained GloVe embeddings are used but not updated during training."
   ]
  },
  {
   "cell_type": "code",
   "execution_count": 25,
   "metadata": {},
   "outputs": [
    {
     "name": "stdout",
     "output_type": "stream",
     "text": [
      "__________________________________________________________________________________________________\n",
      "Layer (type)                    Output Shape         Param #     Connected to                     \n",
      "==================================================================================================\n",
      "input_5 (InputLayer)            (None, 56)           0                                            \n",
      "__________________________________________________________________________________________________\n",
      "embedding_4 (Embedding)         (None, 56, 300)      5352000     input_5[0][0]                    \n",
      "__________________________________________________________________________________________________\n",
      "conv1d_12 (Conv1D)              (None, 54, 100)      90100       embedding_4[0][0]                \n",
      "__________________________________________________________________________________________________\n",
      "conv1d_13 (Conv1D)              (None, 53, 100)      120100      embedding_4[0][0]                \n",
      "__________________________________________________________________________________________________\n",
      "conv1d_14 (Conv1D)              (None, 52, 100)      150100      embedding_4[0][0]                \n",
      "__________________________________________________________________________________________________\n",
      "max_pooling1d_12 (MaxPooling1D) (None, 1, 100)       0           conv1d_12[0][0]                  \n",
      "__________________________________________________________________________________________________\n",
      "max_pooling1d_13 (MaxPooling1D) (None, 1, 100)       0           conv1d_13[0][0]                  \n",
      "__________________________________________________________________________________________________\n",
      "max_pooling1d_14 (MaxPooling1D) (None, 1, 100)       0           conv1d_14[0][0]                  \n",
      "__________________________________________________________________________________________________\n",
      "flatten_12 (Flatten)            (None, 100)          0           max_pooling1d_12[0][0]           \n",
      "__________________________________________________________________________________________________\n",
      "flatten_13 (Flatten)            (None, 100)          0           max_pooling1d_13[0][0]           \n",
      "__________________________________________________________________________________________________\n",
      "flatten_14 (Flatten)            (None, 100)          0           max_pooling1d_14[0][0]           \n",
      "__________________________________________________________________________________________________\n",
      "concatenate_4 (Concatenate)     (None, 300)          0           flatten_12[0][0]                 \n",
      "                                                                 flatten_13[0][0]                 \n",
      "                                                                 flatten_14[0][0]                 \n",
      "__________________________________________________________________________________________________\n",
      "dropout_4 (Dropout)             (None, 300)          0           concatenate_4[0][0]              \n",
      "__________________________________________________________________________________________________\n",
      "dense_3 (Dense)                 (None, 1)            301         dropout_4[0][0]                  \n",
      "==================================================================================================\n",
      "Total params: 5,712,601\n",
      "Trainable params: 360,601\n",
      "Non-trainable params: 5,352,000\n",
      "__________________________________________________________________________________________________\n",
      "None\n"
     ]
    }
   ],
   "source": [
    "#Model 2: CNN-static\n",
    "\n",
    "convs = []\n",
    "\n",
    "embedding_layer = Embedding(vocab_length,\n",
    "                            embedding_matrix.shape[1],\n",
    "                            weights=[embedding_matrix],\n",
    "                            input_length=length_long_sentence,\n",
    "                            trainable=False)\n",
    "\n",
    "sequence_input = keras.engine.input_layer.Input(shape=(length_long_sentence,), dtype='int32')\n",
    "embedded_sequences = embedding_layer(sequence_input)\n",
    "\n",
    "for cur_filter in cnn_filter_sizes:\n",
    "    l_conv = Conv1D(filters=filter_map_size, kernel_size=cur_filter, activation='relu')(embedded_sequences)\n",
    "    l_pool = MaxPooling1D(pool_size=length_long_sentence-cur_filter+1, strides=None, padding='valid')(l_conv)\n",
    "    l_flatten = Flatten()(l_pool)\n",
    "    convs.append(l_flatten)\n",
    "    \n",
    "output_layer = concatenate(convs, axis=-1)\n",
    "output_layer = Dropout(dropout_p)(output_layer)\n",
    "prediction_layer = Dense(1, activation='sigmoid', kernel_regularizer=regularizers.l2(l2_s))(output_layer)\n",
    "\n",
    "model2 = Model(inputs=sequence_input, outputs=prediction_layer)\n",
    "model2.compile(loss='binary_crossentropy',\n",
    "              optimizer='adam',\n",
    "              metrics=['accuracy', tf.keras.metrics.Precision(), tf.keras.metrics.Recall()])\n",
    "print(model2.summary())"
   ]
  },
  {
   "cell_type": "code",
   "execution_count": 26,
   "metadata": {},
   "outputs": [
    {
     "data": {
      "image/png": "[encoded data removed]",
      "text/plain": [
       "<Figure size 432x288 with 1 Axes>"
      ]
     },
     "metadata": {
      "needs_background": "light"
     },
     "output_type": "display_data"
    },
    {
     "data": {
      "image/png": "[encoded data removed]",
      "text/plain": [
       "<Figure size 432x288 with 1 Axes>"
      ]
     },
     "metadata": {
      "needs_background": "light"
     },
     "output_type": "display_data"
    }
   ],
   "source": [
    "callback = tf.keras.callbacks.EarlyStopping(monitor='val_loss', patience=3, restore_best_weights = True)\n",
    "history = model2.fit(padded_sentences_train, trainY,\n",
    "                    validation_data=(padded_sentences_dev, devY),\n",
    "                    epochs=30,\n",
    "                    batch_size=batch_size,\n",
    "                    callbacks=[callback],\n",
    "                    verbose = 0) #Early stopping to obtain best performing model on the validation data\n",
    "plot_graphs(history, 'acc')\n",
    "plot_graphs(history, 'loss')"
   ]
  },
  {
   "cell_type": "markdown",
   "metadata": {},
   "source": [
    "<b>Model 3: CNN-non-static</b>\n",
    "<br>\n",
    "Pre-trained GloVe embeddings are used but and fine-tuned/updated during training."
   ]
  },
  {
   "cell_type": "code",
   "execution_count": 27,
   "metadata": {},
   "outputs": [
    {
     "name": "stdout",
     "output_type": "stream",
     "text": [
      "__________________________________________________________________________________________________\n",
      "Layer (type)                    Output Shape         Param #     Connected to                     \n",
      "==================================================================================================\n",
      "input_6 (InputLayer)            (None, 56)           0                                            \n",
      "__________________________________________________________________________________________________\n",
      "embedding_5 (Embedding)         (None, 56, 300)      5352000     input_6[0][0]                    \n",
      "__________________________________________________________________________________________________\n",
      "conv1d_15 (Conv1D)              (None, 54, 100)      90100       embedding_5[0][0]                \n",
      "__________________________________________________________________________________________________\n",
      "conv1d_16 (Conv1D)              (None, 53, 100)      120100      embedding_5[0][0]                \n",
      "__________________________________________________________________________________________________\n",
      "conv1d_17 (Conv1D)              (None, 52, 100)      150100      embedding_5[0][0]                \n",
      "__________________________________________________________________________________________________\n",
      "max_pooling1d_15 (MaxPooling1D) (None, 1, 100)       0           conv1d_15[0][0]                  \n",
      "__________________________________________________________________________________________________\n",
      "max_pooling1d_16 (MaxPooling1D) (None, 1, 100)       0           conv1d_16[0][0]                  \n",
      "__________________________________________________________________________________________________\n",
      "max_pooling1d_17 (MaxPooling1D) (None, 1, 100)       0           conv1d_17[0][0]                  \n",
      "__________________________________________________________________________________________________\n",
      "flatten_15 (Flatten)            (None, 100)          0           max_pooling1d_15[0][0]           \n",
      "__________________________________________________________________________________________________\n",
      "flatten_16 (Flatten)            (None, 100)          0           max_pooling1d_16[0][0]           \n",
      "__________________________________________________________________________________________________\n",
      "flatten_17 (Flatten)            (None, 100)          0           max_pooling1d_17[0][0]           \n",
      "__________________________________________________________________________________________________\n",
      "concatenate_5 (Concatenate)     (None, 300)          0           flatten_15[0][0]                 \n",
      "                                                                 flatten_16[0][0]                 \n",
      "                                                                 flatten_17[0][0]                 \n",
      "__________________________________________________________________________________________________\n",
      "dropout_5 (Dropout)             (None, 300)          0           concatenate_5[0][0]              \n",
      "__________________________________________________________________________________________________\n",
      "dense_4 (Dense)                 (None, 1)            301         dropout_5[0][0]                  \n",
      "==================================================================================================\n",
      "Total params: 5,712,601\n",
      "Trainable params: 5,712,601\n",
      "Non-trainable params: 0\n",
      "__________________________________________________________________________________________________\n",
      "None\n"
     ]
    }
   ],
   "source": [
    "#Model 3: CNN-non-static\n",
    "\n",
    "convs = []\n",
    "\n",
    "embedding_layer = Embedding(vocab_length,\n",
    "                            embedding_matrix.shape[1],\n",
    "                            weights=[embedding_matrix],\n",
    "                            input_length=length_long_sentence,\n",
    "                            trainable=True)\n",
    "\n",
    "sequence_input = keras.engine.input_layer.Input(shape=(length_long_sentence,), dtype='int32')\n",
    "embedded_sequences = embedding_layer(sequence_input)\n",
    "\n",
    "for cur_filter in cnn_filter_sizes:\n",
    "    l_conv = Conv1D(filters=filter_map_size, kernel_size=cur_filter, activation='relu')(embedded_sequences)\n",
    "    l_pool = MaxPooling1D(pool_size=length_long_sentence-cur_filter+1, strides=None, padding='valid')(l_conv)\n",
    "    l_flatten = Flatten()(l_pool)\n",
    "    convs.append(l_flatten)\n",
    "    \n",
    "output_layer = concatenate(convs, axis=-1)\n",
    "output_layer = Dropout(dropout_p)(output_layer)\n",
    "prediction_layer = Dense(1, activation='sigmoid', kernel_regularizer=regularizers.l2(l2_s))(output_layer)\n",
    "\n",
    "model3 = Model(inputs=sequence_input, outputs=prediction_layer)\n",
    "model3.compile(loss='binary_crossentropy',\n",
    "              optimizer='adam',\n",
    "              metrics=['accuracy', tf.keras.metrics.Precision(), tf.keras.metrics.Recall()])\n",
    "print(model3.summary())"
   ]
  },
  {
   "cell_type": "code",
   "execution_count": 28,
   "metadata": {},
   "outputs": [
    {
     "data": {
      "image/png": "[encoded data removed]",
      "text/plain": [
       "<Figure size 432x288 with 1 Axes>"
      ]
     },
     "metadata": {
      "needs_background": "light"
     },
     "output_type": "display_data"
    },
    {
     "data": {
      "image/png": "[encoded data removed]",
      "text/plain": [
       "<Figure size 432x288 with 1 Axes>"
      ]
     },
     "metadata": {
      "needs_background": "light"
     },
     "output_type": "display_data"
    }
   ],
   "source": [
    "callback = tf.keras.callbacks.EarlyStopping(monitor='val_loss', patience=3, restore_best_weights = True)\n",
    "history = model3.fit(padded_sentences_train, trainY,\n",
    "                    validation_data=(padded_sentences_dev, devY),\n",
    "                    epochs=30,\n",
    "                    batch_size=batch_size,\n",
    "                    callbacks=[callback],\n",
    "                    verbose = 0) #Early stopping to obtain best performing model on the validation data\n",
    "plot_graphs(history, 'acc')\n",
    "plot_graphs(history, 'loss')"
   ]
  },
  {
   "cell_type": "markdown",
   "metadata": {},
   "source": [
    "<b>Obserations:</b>\n",
    "<ul>\n",
    "    <li>The best performing model is the third model with pre-trained embeddings that are fine-tuned during training. It registers a higher validation accuracy on the data and also converges faster. This indicates that fine-tuning the embeddings for the data at hand results in better performance since the embeddings are tuned to be better representatives of the corpus.</li>\n",
    "    <li>Using pre-trained embeddings without updating them during training results in lesser performance.</li>\n",
    "    <li>Randomly initialized weights result in the lowest performance though they are fine-tuned during training. Additionally, they result in overfitting. On penalizing the same, the performance decreases drastically.</li>\n",
    "</ul>"
   ]
  },
  {
   "cell_type": "markdown",
   "metadata": {},
   "source": [
    "<b>Evaluating the models on the test data</b>"
   ]
  },
  {
   "cell_type": "code",
   "execution_count": 32,
   "metadata": {},
   "outputs": [
    {
     "name": "stdout",
     "output_type": "stream",
     "text": [
      "Evaluating CNN-rand on test data\n",
      "Accuracy: 72.714931\n",
      "Precision:  0.7171986\n",
      "Recall: 0.7401647\n",
      "F1-score: 0.7285006666131206\n"
     ]
    }
   ],
   "source": [
    "#Evaluating CNN-rand on the test data\n",
    "loss, accuracy, precision, recall = model1.evaluate(padded_sentences_test, testY, verbose=0)\n",
    "print(\"Evaluating CNN-rand on test data\")\n",
    "displayMetrics(accuracy, precision, recall)"
   ]
  },
  {
   "cell_type": "code",
   "execution_count": 33,
   "metadata": {},
   "outputs": [
    {
     "name": "stdout",
     "output_type": "stream",
     "text": [
      "Evaluating CNN-static on test data\n",
      "Accuracy: 76.515836\n",
      "Precision:  0.7749042\n",
      "Recall: 0.7401647\n",
      "F1-score: 0.7571361678989856\n"
     ]
    }
   ],
   "source": [
    "#Evaluating CNN-static on the test data\n",
    "loss, accuracy, precision, recall = model2.evaluate(padded_sentences_test, testY, verbose=0)\n",
    "print(\"Evaluating CNN-static on test data\")\n",
    "displayMetrics(accuracy, precision, recall)"
   ]
  },
  {
   "cell_type": "code",
   "execution_count": 34,
   "metadata": {},
   "outputs": [
    {
     "name": "stdout",
     "output_type": "stream",
     "text": [
      "Evaluating CNN-non-static on test data\n",
      "Accuracy: 77.194571\n",
      "Precision:  0.7599294\n",
      "Recall: 0.7877402\n",
      "F1-score: 0.7735848931747019\n"
     ]
    }
   ],
   "source": [
    "#Evaluating CNN-non-static on the test data\n",
    "loss, accuracy, precision, recall = model3.evaluate(padded_sentences_test, testY, verbose=0)\n",
    "print(\"Evaluating CNN-non-static on test data\")\n",
    "displayMetrics(accuracy, precision, recall)"
   ]
  },
  {
   "cell_type": "markdown",
   "metadata": {},
   "source": [
    "<b>Final observations:</b>\n",
    "<ul>\n",
    "    <li>The model with pre-trained vectors that are fine-tuned during training (model 3) performs the best on the validation and test datasets.</li>\n",
    "    <li>The model with pre-trained vectors that aren't updated during training performs slightly worse than the third model. This could be considered as impact of model 3 performing well due to the word embeddings being adapted to the corpus during training.</li>\n",
    "    <li>The first model, with random initialization, results in the least performance metrics.</li>\n",
    "    <li>The CNN model, thus seem to benefit from using pre-trained word embeddings that are futher trained on the corpus to achieve best performance on the test data.</li>\n",
    "</ul>"
   ]
  }
 ],
 "metadata": {
  "kernelspec": {
   "display_name": "Python 3",
   "language": "python",
   "name": "python3"
  },
  "language_info": {
   "codemirror_mode": {
    "name": "ipython",
    "version": 3
   },
   "file_extension": ".py",
   "mimetype": "text/x-python",
   "name": "python",
   "nbconvert_exporter": "python",
   "pygments_lexer": "ipython3",
   "version": "3.7.1"
  }
 },
 "nbformat": 4,
 "nbformat_minor": 2
}
